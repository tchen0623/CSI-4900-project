{
 "cells": [
  {
   "cell_type": "code",
   "execution_count": 1,
   "id": "8c4f67bd",
   "metadata": {},
   "outputs": [
    {
     "name": "stdout",
     "output_type": "stream",
     "text": [
      "load pretrained SPyNet...\n",
      "load checkpoint from http path: https://download.openmmlab.com/mmediting/restorers/basicvsr/spynet_20210409-c6c1bd09.pth\n",
      "Loading model from: release_model/E2FGVI-HQ-CVPR22.pth\n",
      "Loading videos and masks from: examples/tennis | INPUT MP4 format: False\n",
      "Start test...\n",
      "Saving videos...\n",
      "Finish test! The result video is saved in: results\\tennis_results.mp4.\n",
      "Let us enjoy the result!\n",
      "Figure(640x480)\n"
     ]
    },
    {
     "name": "stderr",
     "output_type": "stream",
     "text": [
      "test.py:63: DeprecationWarning: NEAREST is deprecated and will be removed in Pillow 10 (2023-07-01). Use Resampling.NEAREST or Dither.NONE instead.\n",
      "  m = m.resize(size, Image.NEAREST)\n",
      "\n",
      "  0%|          | 0/24 [00:00<?, ?it/s]F:\\Anaconda3\\envs\\open-mmlab\\lib\\site-packages\\torch\\functional.py:478: UserWarning: torch.meshgrid: in an upcoming release, it will be required to pass the indexing argument. (Triggered internally at  C:\\cb\\pytorch_1000000000000\\work\\aten\\src\\ATen\\native\\TensorShape.cpp:2895.)\n",
      "  return _VF.meshgrid(tensors, **kwargs)  # type: ignore[attr-defined]\n",
      "\n",
      "  4%|▍         | 1/24 [00:13<05:13, 13.64s/it]\n",
      "  8%|▊         | 2/24 [00:13<02:08,  5.82s/it]\n",
      " 12%|█▎        | 3/24 [00:14<01:08,  3.26s/it]\n",
      " 17%|█▋        | 4/24 [00:14<00:40,  2.05s/it]\n",
      " 21%|██        | 5/24 [00:14<00:26,  1.38s/it]\n",
      " 25%|██▌       | 6/24 [00:14<00:17,  1.02it/s]\n",
      " 29%|██▉       | 7/24 [00:14<00:12,  1.38it/s]\n",
      " 33%|███▎      | 8/24 [00:15<00:08,  1.80it/s]\n",
      " 38%|███▊      | 9/24 [00:15<00:06,  2.19it/s]\n",
      " 42%|████▏     | 10/24 [00:15<00:05,  2.61it/s]\n",
      " 46%|████▌     | 11/24 [00:37<01:29,  6.85s/it]\n",
      " 50%|█████     | 12/24 [00:55<02:04, 10.35s/it]\n",
      " 54%|█████▍    | 13/24 [01:29<03:11, 17.39s/it]\n",
      " 58%|█████▊    | 14/24 [02:10<04:05, 24.50s/it]\n",
      " 62%|██████▎   | 15/24 [02:10<02:34, 17.20s/it]\n",
      " 67%|██████▋   | 16/24 [02:10<01:37, 12.13s/it]\n",
      " 71%|███████   | 17/24 [02:10<01:00,  8.58s/it]\n",
      " 75%|███████▌  | 18/24 [02:13<00:39,  6.66s/it]\n",
      " 79%|███████▉  | 19/24 [02:13<00:23,  4.79s/it]\n",
      " 83%|████████▎ | 20/24 [02:19<00:20,  5.15s/it]\n",
      " 88%|████████▊ | 21/24 [02:21<00:12,  4.25s/it]\n",
      " 92%|█████████▏| 22/24 [02:23<00:06,  3.37s/it]\n",
      " 96%|█████████▌| 23/24 [02:23<00:02,  2.43s/it]\n",
      "100%|██████████| 24/24 [02:25<00:00,  2.33s/it]\n",
      "100%|██████████| 24/24 [02:25<00:00,  6.06s/it]\n",
      "F:\\Anaconda3\\envs\\open-mmlab\\lib\\site-packages\\matplotlib\\animation.py:888: UserWarning: Animation was deleted without rendering anything. This is most likely not intended. To prevent deletion, assign the Animation to a variable, e.g. `anim`, that exists until you have outputted the Animation using `plt.show()` or `anim.save()`.\n",
      "  'Animation was deleted without rendering anything. This is '\n"
     ]
    }
   ],
   "source": [
    "!python test.py --model e2fgvi_hq --video examples/tennis --mask examples/tennis_mask  --ckpt release_model/E2FGVI-HQ-CVPR22.pth"
   ]
  },
  {
   "cell_type": "code",
   "execution_count": null,
   "id": "1973eb5b",
   "metadata": {},
   "outputs": [],
   "source": []
  }
 ],
 "metadata": {
  "kernelspec": {
   "display_name": "Python 3 (ipykernel)",
   "language": "python",
   "name": "python3"
  },
  "language_info": {
   "codemirror_mode": {
    "name": "ipython",
    "version": 3
   },
   "file_extension": ".py",
   "mimetype": "text/x-python",
   "name": "python",
   "nbconvert_exporter": "python",
   "pygments_lexer": "ipython3",
   "version": "3.7.13"
  }
 },
 "nbformat": 4,
 "nbformat_minor": 5
}
